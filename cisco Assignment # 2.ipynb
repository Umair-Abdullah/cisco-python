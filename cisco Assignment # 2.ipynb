{
 "cells": [
  {
   "cell_type": "code",
   "execution_count": 26,
   "metadata": {},
   "outputs": [
    {
     "name": "stdout",
     "output_type": "stream",
     "text": [
      "Enter the marks of subject Math : 66\n",
      "Enter the marks of subject Chemistry : 66\n",
      "Enter the marks of subject Physics : 66\n",
      "Enter the marks of subject Urdu : 66\n",
      "Enter the marks of subject English : 66\n",
      "your percentage is 66 % and your Grade is B\n"
     ]
    }
   ],
   "source": [
    "inp1=int(input(\"Enter the marks of subject Math : \"))\n",
    "inp2=int(input(\"Enter the marks of subject Chemistry : \"))\n",
    "inp3=int(input(\"Enter the marks of subject Physics : \"))\n",
    "inp4=int(input(\"Enter the marks of subject Urdu : \"))\n",
    "inp5=int(input(\"Enter the marks of subject English : \"))\n",
    "obtain=inp1+inp2+inp3+inp4+inp5\n",
    "per=int(obtain/500*100)\n",
    "if(per>=80):\n",
    "    print(\"your percentage is\",per,\"% and your Grade is A+\")\n",
    "elif(per>=70):\n",
    "    print(\"your percentage is\",per,\"% and your Grade is A\")\n",
    "elif(per>=60):\n",
    "    print(\"your percentage is\",per,\"% and your Grade is B\")\n",
    "elif(per>=50):\n",
    "    print(\"your percentage is\",per,\"% and your Grade is C\")\n",
    "elif(per>=40):\n",
    "    print(\"your percentage is\",per,\"% and your Grade is D\")\n",
    "else:\n",
    "    print(\"you are Fail\")"
   ]
  },
  {
   "cell_type": "code",
   "execution_count": 13,
   "metadata": {},
   "outputs": [
    {
     "name": "stdout",
     "output_type": "stream",
     "text": [
      "enter any number : 100\n",
      "your number is even\n"
     ]
    }
   ],
   "source": [
    "user=int(input(\"enter any number : \"))\n",
    "check=user%2\n",
    "if(check):\n",
    "    print(\"your number is odd\")\n",
    "else:\n",
    "    print(\"your number is even\")"
   ]
  },
  {
   "cell_type": "code",
   "execution_count": 16,
   "metadata": {},
   "outputs": [
    {
     "name": "stdout",
     "output_type": "stream",
     "text": [
      "7\n"
     ]
    }
   ],
   "source": [
    "tlist=(1,3,4,5,6,7,8)\n",
    "length=len(tlist)\n",
    "print(length)"
   ]
  },
  {
   "cell_type": "code",
   "execution_count": 20,
   "metadata": {},
   "outputs": [
    {
     "name": "stdout",
     "output_type": "stream",
     "text": [
      "34\n"
     ]
    }
   ],
   "source": [
    "tlist=(1,3,4,5,6,7,8)\n",
    "slist=sum(tlist)\n",
    "print(slist)"
   ]
  },
  {
   "cell_type": "code",
   "execution_count": 23,
   "metadata": {},
   "outputs": [
    {
     "name": "stdout",
     "output_type": "stream",
     "text": [
      "9\n"
     ]
    }
   ],
   "source": [
    "tlist=(1,3,4,9,6,7,8)\n",
    "llist=max(tlist)\n",
    "print(llist)"
   ]
  },
  {
   "cell_type": "code",
   "execution_count": 24,
   "metadata": {},
   "outputs": [
    {
     "name": "stdout",
     "output_type": "stream",
     "text": [
      "1\n",
      "1\n",
      "2\n",
      "3\n"
     ]
    }
   ],
   "source": [
    "a = [1, 1, 2, 3, 5, 8, 13, 21, 34, 55, 89]\n",
    "for i in a:\n",
    "    if(i<5):\n",
    "        print(i)\n"
   ]
  }
 ],
 "metadata": {
  "kernelspec": {
   "display_name": "Python 3",
   "language": "python",
   "name": "python3"
  },
  "language_info": {
   "codemirror_mode": {
    "name": "ipython",
    "version": 3
   },
   "file_extension": ".py",
   "mimetype": "text/x-python",
   "name": "python",
   "nbconvert_exporter": "python",
   "pygments_lexer": "ipython3",
   "version": "3.7.1"
  }
 },
 "nbformat": 4,
 "nbformat_minor": 2
}
