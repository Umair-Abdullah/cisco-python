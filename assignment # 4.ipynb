{
  "nbformat": 4,
  "nbformat_minor": 0,
  "metadata": {
    "kernelspec": {
      "display_name": "Python 3",
      "language": "python",
      "name": "python3"
    },
    "language_info": {
      "codemirror_mode": {
        "name": "ipython",
        "version": 3
      },
      "file_extension": ".py",
      "mimetype": "text/x-python",
      "name": "python",
      "nbconvert_exporter": "python",
      "pygments_lexer": "ipython3",
      "version": "3.7.3"
    },
    "colab": {
      "name": "Assignment No.4.ipynb",
      "provenance": [],
      "collapsed_sections": []
    }
  },
  "cells": [
    {
      "cell_type": "markdown",
      "metadata": {
        "id": "y1N_log83kGH",
        "colab_type": "text"
      },
      "source": [
        "# Answer No.1"
      ]
    },
    {
      "cell_type": "code",
      "metadata": {
        "id": "WKVSJlBj3kGJ",
        "colab_type": "code",
        "colab": {}
      },
      "source": [
        "person={\"first_name\":\"Umair\",\"last_name\":\"Abdullah\",\"age\":24,\"city\":\"Karachi\"}"
      ],
      "execution_count": 0,
      "outputs": []
    },
    {
      "cell_type": "code",
      "metadata": {
        "id": "ws7ABkLF3kGO",
        "colab_type": "code",
        "outputId": "9ce1cb8f-c2c7-441f-b749-c2bde2a9caea",
        "colab": {
          "base_uri": "https://localhost:8080/",
          "height": 85
        }
      },
      "source": [
        "for p in person: print(p,\":\",person[p])"
      ],
      "execution_count": 0,
      "outputs": [
        {
          "output_type": "stream",
          "text": [
            "first_name : Umair\n",
            "last_name : Abdullah\n",
            "age : 24\n",
            "city : Karachi\n"
          ],
          "name": "stdout"
        }
      ]
    },
    {
      "cell_type": "code",
      "metadata": {
        "id": "WBa9V1v53kGU",
        "colab_type": "code",
        "outputId": "52c4fe49-d1af-4f20-fed2-312efbc11ccb",
        "colab": {
          "base_uri": "https://localhost:8080/",
          "height": 102
        }
      },
      "source": [
        "person.update({\"qualification\":\"Intermediate\"})\n",
        "person"
      ],
      "execution_count": 0,
      "outputs": [
        {
          "output_type": "execute_result",
          "data": {
            "text/plain": [
              "{'age': 24,\n",
              " 'city': 'Karachi',\n",
              " 'first_name': 'Umair',\n",
              " 'last_name': 'Abdullah',\n",
              " 'qualification': 'Intermediate'}"
            ]
          },
          "metadata": {
            "tags": []
          },
          "execution_count": 6
        }
      ]
    },
    {
      "cell_type": "code",
      "metadata": {
        "id": "xpN6E1il3kGY",
        "colab_type": "code",
        "outputId": "81b61f20-6a85-4b92-f4bf-27368ae8fdb0",
        "colab": {
          "base_uri": "https://localhost:8080/",
          "height": 102
        }
      },
      "source": [
        "person.update({\"qualification\":\"undergraduation\"})\n",
        "person"
      ],
      "execution_count": 0,
      "outputs": [
        {
          "output_type": "execute_result",
          "data": {
            "text/plain": [
              "{'age': 24,\n",
              " 'city': 'Karachi',\n",
              " 'first_name': 'Umair',\n",
              " 'last_name': 'Abdullah',\n",
              " 'qualification': 'undergraduation'}"
            ]
          },
          "metadata": {
            "tags": []
          },
          "execution_count": 8
        }
      ]
    },
    {
      "cell_type": "code",
      "metadata": {
        "id": "2Sa6BZ7m3kGc",
        "colab_type": "code",
        "colab": {}
      },
      "source": [
        "del person[\"qualification\"]"
      ],
      "execution_count": 0,
      "outputs": []
    },
    {
      "cell_type": "code",
      "metadata": {
        "id": "t5hVS2bN3kGg",
        "colab_type": "code",
        "outputId": "b1613410-6add-47d1-ebf8-11c7e2c6da40",
        "colab": {
          "base_uri": "https://localhost:8080/",
          "height": 34
        }
      },
      "source": [
        "person"
      ],
      "execution_count": 0,
      "outputs": [
        {
          "output_type": "execute_result",
          "data": {
            "text/plain": [
              "{'age': 24, 'city': 'Karachi', 'first_name': 'Umair', 'last_name': 'Abdullah'}"
            ]
          },
          "metadata": {
            "tags": []
          },
          "execution_count": 10
        }
      ]
    },
    {
      "cell_type": "markdown",
      "metadata": {
        "id": "4LF0IVj33kGk",
        "colab_type": "text"
      },
      "source": [
        "# Answer No.2"
      ]
    },
    {
      "cell_type": "code",
      "metadata": {
        "id": "a8znbyRt3kGl",
        "colab_type": "code",
        "outputId": "f27488e3-bb35-4905-df77-40dbc53fd14b",
        "colab": {
          "base_uri": "https://localhost:8080/",
          "height": 170
        }
      },
      "source": [
        "cities={\n",
        "    \"Karachi\":{\n",
        "        \"Country\":\"Pakistan\",\n",
        "        \"Population\":216565318,\n",
        "        \"Fact\":\"Karachi; is the capital of the Pakistan's province of Sindh.\"\n",
        "    },\n",
        "    \"London\":{\n",
        "        \"Country\":\"England\",\n",
        "        \"Population\":9176530,\n",
        "        \"Fact\":\"Capital of England\"\n",
        "    },\n",
        "    \"Tokyo\":{\n",
        "        \"Country\":\"Japan\",\n",
        "        \"Population\":\"13.9 million\",\n",
        "        \"Fact\":\"Capital of Japan\"\n",
        "    }\n",
        "\n",
        "}\n",
        "cities"
      ],
      "execution_count": 0,
      "outputs": [
        {
          "output_type": "execute_result",
          "data": {
            "text/plain": [
              "{'Karachi': {'Country': 'Pakistan',\n",
              "  'Fact': \"Karachi; is the capital of the Pakistan's province of Sindh.\",\n",
              "  'Population': 216565318},\n",
              " 'London': {'Country': 'England',\n",
              "  'Fact': 'Capital of England',\n",
              "  'Population': 9176530},\n",
              " 'Tokyo': {'Country': 'Japan',\n",
              "  'Fact': 'Capital of Japan',\n",
              "  'Population': '13.9 million'}}"
            ]
          },
          "metadata": {
            "tags": []
          },
          "execution_count": 14
        }
      ]
    },
    {
      "cell_type": "code",
      "metadata": {
        "id": "Q8kcZVpI3kGp",
        "colab_type": "code",
        "outputId": "2cc68cbc-98a7-4a34-ec0d-4838ea37ad71",
        "colab": {
          "base_uri": "https://localhost:8080/",
          "height": 221
        }
      },
      "source": [
        "for i in cities:\n",
        "    print(i,\" : \")\n",
        "    for j in cities[i]:\n",
        "        print(\"\\t\",j,\" : \",cities[i][j])"
      ],
      "execution_count": 0,
      "outputs": [
        {
          "output_type": "stream",
          "text": [
            "Karachi  : \n",
            "\t Country  :  Pakistan\n",
            "\t Population  :  216565318\n",
            "\t Fact  :  Karachi; is the capital of the Pakistan's province of Sindh.\n",
            "London  : \n",
            "\t Country  :  England\n",
            "\t Population  :  9176530\n",
            "\t Fact  :  Capital of England\n",
            "Tokyo  : \n",
            "\t Country  :  Japan\n",
            "\t Population  :  13.9 million\n",
            "\t Fact  :  Capital of Japan\n"
          ],
          "name": "stdout"
        }
      ]
    },
    {
      "cell_type": "markdown",
      "metadata": {
        "id": "wbkugkxx3kGt",
        "colab_type": "text"
      },
      "source": [
        "# Answer No.3"
      ]
    },
    {
      "cell_type": "code",
      "metadata": {
        "id": "ZR3R5pC73kGu",
        "colab_type": "code",
        "outputId": "9c4a836e-d17b-4015-f192-9c0377b47c41",
        "colab": {
          "base_uri": "https://localhost:8080/",
          "height": 170
        }
      },
      "source": [
        "Age=-1\n",
        "print(\"for exit enter 0\")\n",
        "while Age:\n",
        "    \n",
        "    Age=input(\"Enter your Age : \")\n",
        "    Age=int(Age)\n",
        "    if Age==0:\n",
        "        print(\"Thank You\")\n",
        "        break\n",
        "    elif Age<3:\n",
        "        print(\"The tickets are free for children\")\n",
        "    elif Age>=3 and Age<=12:\n",
        "        print(\"The cost for ticket is $10\")\n",
        "    elif Age>12:\n",
        "        print(\"The cost for ticket is $15\")    "
      ],
      "execution_count": 18,
      "outputs": [
        {
          "output_type": "stream",
          "text": [
            "for exit enter 0\n",
            "Enter your Age : 2\n",
            "The tickets are free for children\n",
            "Enter your Age : 5\n",
            "The cost for ticket is $10\n",
            "Enter your Age : 44\n",
            "The cost for ticket is $15\n",
            "Enter your Age : 0\n",
            "Thank You\n"
          ],
          "name": "stdout"
        }
      ]
    },
    {
      "cell_type": "markdown",
      "metadata": {
        "id": "4kSibRRH3kHC",
        "colab_type": "text"
      },
      "source": [
        "# Answer No.4"
      ]
    },
    {
      "cell_type": "code",
      "metadata": {
        "id": "VpCpIJXj3kHD",
        "colab_type": "code",
        "outputId": "d316675b-1fc4-4111-b3d2-f84e641dabe0",
        "colab": {
          "base_uri": "https://localhost:8080/",
          "height": 34
        }
      },
      "source": [
        "def favorite_book(title):\n",
        "    return \"One of my favourite book is \"+title\n",
        "\n",
        "print(favorite_book(\"lice in Wonderland.\"))    "
      ],
      "execution_count": 19,
      "outputs": [
        {
          "output_type": "stream",
          "text": [
            "One of my favourite book is lice in Wonderland.\n"
          ],
          "name": "stdout"
        }
      ]
    },
    {
      "cell_type": "markdown",
      "metadata": {
        "id": "HouAAuO93kHH",
        "colab_type": "text"
      },
      "source": [
        "# Answer No.5"
      ]
    },
    {
      "cell_type": "code",
      "metadata": {
        "id": "4bYYxHnz3kHJ",
        "colab_type": "code",
        "colab": {}
      },
      "source": [
        "import random"
      ],
      "execution_count": 0,
      "outputs": []
    },
    {
      "cell_type": "code",
      "metadata": {
        "id": "MlIFoN1Q3kHM",
        "colab_type": "code",
        "outputId": "3266d1de-888f-40d2-9f0e-c3f7f956ac33",
        "colab": {
          "base_uri": "https://localhost:8080/",
          "height": 119
        }
      },
      "source": [
        "rnum=random.randrange(1,30)\n",
        "win=0\n",
        "for i in range(3):\n",
        "    guess=int(input(\"Enter your guess : \"))\n",
        "    if guess==rnum:\n",
        "        print(\"You figured out right Number\")\n",
        "        win=1\n",
        "        break\n",
        "    elif guess>rnum:\n",
        "      print(\"Your Guess is greater than hidden Number\")\n",
        "    elif guess<rnum:\n",
        "      print(\"Your Guess is less than hidden Number\")\n",
        "if win!=1:\n",
        "    print(\"Out of Chances\")        "
      ],
      "execution_count": 22,
      "outputs": [
        {
          "output_type": "stream",
          "text": [
            "Enter your guess : 12\n",
            "Your Guess is less than hidden Number\n",
            "Enter your guess : 15\n",
            "Your Guess is less than hidden Number\n",
            "Enter your guess : 25\n",
            "You figured out right Number\n"
          ],
          "name": "stdout"
        }
      ]
    }
  ]
}