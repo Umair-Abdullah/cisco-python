{
 "cells": [
  {
   "cell_type": "markdown",
   "metadata": {},
   "source": [
    "# Answer 1"
   ]
  },
  {
   "cell_type": "code",
   "execution_count": 6,
   "metadata": {},
   "outputs": [
    {
     "name": "stdout",
     "output_type": "stream",
     "text": [
      "Enter non-negative factorial Integer : 5\n",
      "Your factorial answer is :  120\n"
     ]
    }
   ],
   "source": [
    "ans=1\n",
    "inp= int(input(\"Enter non-negative factorial Integer : \"))\n",
    "for i in range(1,inp+1):\n",
    "    ans=ans*i\n",
    "print(\"Your factorial answer is : \",ans)"
   ]
  },
  {
   "cell_type": "markdown",
   "metadata": {},
   "source": [
    "# Answer 2"
   ]
  },
  {
   "cell_type": "code",
   "execution_count": 7,
   "metadata": {},
   "outputs": [
    {
     "name": "stdout",
     "output_type": "stream",
     "text": [
      "Enter String :Pakistan ZindaBad\n",
      "The Total UpperCase Letters are :  3\n",
      "The Total LowerCase Letters are :  14\n"
     ]
    }
   ],
   "source": [
    "u=0\n",
    "l=0\n",
    "for i in input(\"Enter String :\"):\n",
    "    if i.isupper(): u=u+1\n",
    "    else: l=l+1\n",
    "print(\"The Total UpperCase Letters are : \",u)\n",
    "print(\"The Total LowerCase Letters are : \",l)\n"
   ]
  },
  {
   "cell_type": "markdown",
   "metadata": {},
   "source": [
    "# Answer 3"
   ]
  },
  {
   "cell_type": "code",
   "execution_count": 12,
   "metadata": {},
   "outputs": [
    {
     "name": "stdout",
     "output_type": "stream",
     "text": [
      "[1, 2, 3, 4, 5, 6, 7, 8, 9, 10] \n",
      "Even Numbers in Above List:\n",
      "2\n",
      "4\n",
      "6\n",
      "8\n",
      "10\n"
     ]
    }
   ],
   "source": [
    "nums=[1,2,3,4,5,6,7,8,9,10]\n",
    "def ev():\n",
    "    print(nums,\"\\nEven Numbers in Above List:\")\n",
    "    for i in nums:\n",
    "        if i%2==0:\n",
    "            print(i)\n",
    "ev()"
   ]
  },
  {
   "cell_type": "markdown",
   "metadata": {},
   "source": [
    "# Answer 4"
   ]
  },
  {
   "cell_type": "code",
   "execution_count": 2,
   "metadata": {},
   "outputs": [
    {
     "name": "stdout",
     "output_type": "stream",
     "text": [
      "Enter a String : did\n",
      "did  is Palindrome\n",
      "Enter a String : wow\n",
      "wow  is Palindrome\n",
      "Enter a String : moom\n",
      "moom  is Palindrome\n",
      "Enter a String : done\n",
      "done  is not a Palindrome\n"
     ]
    }
   ],
   "source": [
    "word=\"\"\n",
    "while word!=['d', 'o', 'n', 'e']:\n",
    "    inp=input(\"Enter a String : \")\n",
    "    a=inp\n",
    "    word=list(inp)\n",
    "    rew=list((reversed(word)))\n",
    "    if word==rew:\n",
    "        print(a,\" is Palindrome\")\n",
    "    else:\n",
    "        print(a,\" is not a Palindrome\")"
   ]
  },
  {
   "cell_type": "markdown",
   "metadata": {},
   "source": [
    "# Answer 5"
   ]
  },
  {
   "cell_type": "code",
   "execution_count": 6,
   "metadata": {},
   "outputs": [
    {
     "name": "stdout",
     "output_type": "stream",
     "text": [
      "for exit enter 0 \n",
      "\n",
      "Enter Any Number : 55\n",
      "55 Number is not Prime\n",
      "Enter Any Number : 44\n",
      "44 Number is not Prime\n",
      "Enter Any Number : 11\n",
      "11 Number is Prime\n",
      "Enter Any Number : 77\n",
      "77 Number is not Prime\n",
      "Enter Any Number : 73\n",
      "73 Number is Prime\n",
      "Enter Any Number : 0\n"
     ]
    }
   ],
   "source": [
    "prime=-1\n",
    "print(\"for exit enter 0 \\n\")\n",
    "while prime!=0:\n",
    "    b=0\n",
    "    prime=int(input(\"Enter Any Number : \"))\n",
    "    for i in range(1,prime+1):\n",
    "        for j in range(1,i+1):\n",
    "            if i*j==prime and i!=prime:\n",
    "                print(prime,\"Number is not Prime\")\n",
    "                b=1\n",
    "                break\n",
    "            elif i*j==prime and i==prime:\n",
    "                print(prime,\"Number is Prime\")\n",
    "                b=1\n",
    "                break\n",
    "        if b==1: break"
   ]
  },
  {
   "cell_type": "markdown",
   "metadata": {},
   "source": [
    "# Answer 6"
   ]
  },
  {
   "cell_type": "code",
   "execution_count": 9,
   "metadata": {},
   "outputs": [
    {
     "name": "stdout",
     "output_type": "stream",
     "text": [
      "My Shoping List \n",
      "\n",
      "1 )  banana\n",
      "2 )  cherry\n",
      "3 )  gift\n",
      "4 )  book\n",
      "5 )  pen\n",
      "6 )  potato\n"
     ]
    }
   ],
   "source": [
    "def shopList(*items):\n",
    "    i=1\n",
    "    print(\"My Shoping List \\n\")\n",
    "    for item in items:\n",
    "        print(i,\") \",item)\n",
    "        i=i+1\n",
    "\n",
    "shopList(\"banana\",\"cherry\",\"gift\",\"book\",\"pen\",\"potato\")\n",
    "    "
   ]
  }
 ],
 "metadata": {
  "kernelspec": {
   "display_name": "Python 3",
   "language": "python",
   "name": "python3"
  },
  "language_info": {
   "codemirror_mode": {
    "name": "ipython",
    "version": 3
   },
   "file_extension": ".py",
   "mimetype": "text/x-python",
   "name": "python",
   "nbconvert_exporter": "python",
   "pygments_lexer": "ipython3",
   "version": "3.7.1"
  }
 },
 "nbformat": 4,
 "nbformat_minor": 2
}
